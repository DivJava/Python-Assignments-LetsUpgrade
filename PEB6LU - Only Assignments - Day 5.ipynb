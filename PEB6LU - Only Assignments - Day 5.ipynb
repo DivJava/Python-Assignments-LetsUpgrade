{
 "cells": [
  {
   "cell_type": "raw",
   "metadata": {},
   "source": [
    "Assignment 1 = [0,1,2,10,4,1,0,56,2,0,1,3,0,56,0,4]\n",
    "\n",
    "Sort in increasing order but all zeroes should be at the RHS\n",
    "\n",
    "use key here"
   ]
  },
  {
   "cell_type": "code",
   "execution_count": 62,
   "metadata": {},
   "outputs": [
    {
     "name": "stdout",
     "output_type": "stream",
     "text": [
      "[1, 1, 1, 2, 2, 3, 4, 4, 10, 56, 56, 0, 0, 0, 0, 0]\n"
     ]
    }
   ],
   "source": [
    "list1 = [0,1,2,10,4,1,0,56,2,0,1,3,0,56,0,4]\n",
    "list1.sort()\n",
    "list1.sort(key=lambda x: x == 0)\n",
    "print (list1)"
   ]
  },
  {
   "cell_type": "raw",
   "metadata": {},
   "source": [
    "Assignment 2 \n",
    "list 1 = [10,20,40,60,70,80] sorted list\n",
    "list 2 = [5,15,25,35,45,60] sorted list\n",
    "merge these two sorted list produce one sorted list, but use only one loop either while or for\n",
    "do not use sort method"
   ]
  },
  {
   "cell_type": "markdown",
   "metadata": {},
   "source": [
    "use only one loop one time\n",
    "\n",
    "list.sort() has n^2 complexity\n",
    "\n",
    "merge these two in a way that final list is sorted\n",
    "\n",
    "you need only n complexity\n",
    "\n",
    "[5,10,15,20,25,...]\n",
    "\n",
    "key is like a criteria return is like addition of the two things refer the example above"
   ]
  },
  {
   "cell_type": "code",
   "execution_count": 1,
   "metadata": {},
   "outputs": [
    {
     "name": "stdout",
     "output_type": "stream",
     "text": [
      "[5, 10, 15, 20, 25, 35, 40, 45, 60, 60, 70, 80]\n"
     ]
    }
   ],
   "source": [
    "list1 = [10,20,40,60,70,80]\n",
    "list2 = [5,15,25,35,45,60]\n",
    "list3 = list1 + list2\n",
    "def sort(list3):\n",
    "    for x in range (len(list3)-1,0,-1):\n",
    "        for y in range (x):\n",
    "            if list3[y] > list3[y+1]:\n",
    "                temp = list3[y]\n",
    "                list3[y] = list3[y+1]\n",
    "                list3[y+1] = temp\n",
    "sort(list3)\n",
    "print(list3)"
   ]
  },
  {
   "cell_type": "code",
   "execution_count": null,
   "metadata": {},
   "outputs": [],
   "source": []
  },
  {
   "cell_type": "code",
   "execution_count": null,
   "metadata": {},
   "outputs": [],
   "source": []
  }
 ],
 "metadata": {
  "kernelspec": {
   "display_name": "Python 3",
   "language": "python",
   "name": "python3"
  },
  "language_info": {
   "codemirror_mode": {
    "name": "ipython",
    "version": 3
   },
   "file_extension": ".py",
   "mimetype": "text/x-python",
   "name": "python",
   "nbconvert_exporter": "python",
   "pygments_lexer": "ipython3",
   "version": "3.7.6"
  }
 },
 "nbformat": 4,
 "nbformat_minor": 4
}
