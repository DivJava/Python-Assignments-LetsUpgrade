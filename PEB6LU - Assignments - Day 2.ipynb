{
 "cells": [
  {
   "cell_type": "markdown",
   "metadata": {},
   "source": [
    "Day 2\n",
    "basic python syntax\n",
    "python varibales and assignment statement\n",
    "python operators\n",
    "1.)Basic syntax:\n",
    "Back slash:"
   ]
  },
  {
   "cell_type": "code",
   "execution_count": 1,
   "metadata": {},
   "outputs": [
    {
     "name": "stdout",
     "output_type": "stream",
     "text": [
      "hello python\n"
     ]
    }
   ],
   "source": [
    "print(\"hello python\")"
   ]
  },
  {
   "cell_type": "markdown",
   "metadata": {},
   "source": [
    "end of line error while scanning string literal\n"
   ]
  },
  {
   "cell_type": "code",
   "execution_count": 2,
   "metadata": {},
   "outputs": [
    {
     "name": "stdout",
     "output_type": "stream",
     "text": [
      "hello       python\n"
     ]
    }
   ],
   "source": [
    "print(\"hello \\\n",
    "      python\")"
   ]
  },
  {
   "cell_type": "markdown",
   "metadata": {},
   "source": [
    "2.)Triple Quotes:\n",
    "ascii text art SMS\n",
    "print(\"\"\" art \"\"\")\n",
    "\n",
    "without print statement\n",
    "making doc string - without print"
   ]
  },
  {
   "cell_type": "code",
   "execution_count": 3,
   "metadata": {},
   "outputs": [
    {
     "name": "stdout",
     "output_type": "stream",
     "text": [
      "……..@*@*\n",
      "….@*……..@* …………………………@*\n",
      "..@*……………@* ………………@*……..@*\n",
      ".@*……………….@*……….@*……………..@*\n",
      "@*…………………..@*…@*………………….@*\n",
      "@*………………………*……………………..@*\n",
      ".@*…………………………………………….@*\n",
      "..@*………………………………………..@*\n",
      "….@*…………………………………..@*\n",
      "……..@*…………………………..@*\n",
      "………..@*……………………@*\n",
      "…………….@*…………..@*\n",
      "……………….@*……@*\n",
      "………………….*..@*\n",
      "……………………@\n",
      "……………………*\n",
      "……………………@\n",
      "……………………*\n",
      "\n"
     ]
    }
   ],
   "source": [
    "print('''……..@*@*\n",
    "….@*……..@* …………………………@*\n",
    "..@*……………@* ………………@*……..@*\n",
    ".@*……………….@*……….@*……………..@*\n",
    "@*…………………..@*…@*………………….@*\n",
    "@*………………………*……………………..@*\n",
    ".@*…………………………………………….@*\n",
    "..@*………………………………………..@*\n",
    "….@*…………………………………..@*\n",
    "……..@*…………………………..@*\n",
    "………..@*……………………@*\n",
    "…………….@*…………..@*\n",
    "……………….@*……@*\n",
    "………………….*..@*\n",
    "……………………@\n",
    "……………………*\n",
    "……………………@\n",
    "……………………*\n",
    "''')"
   ]
  },
  {
   "cell_type": "code",
   "execution_count": 4,
   "metadata": {},
   "outputs": [
    {
     "data": {
      "text/plain": [
       "'this program is written by mohit'"
      ]
     },
     "execution_count": 4,
     "metadata": {},
     "output_type": "execute_result"
    }
   ],
   "source": [
    "'''this program is written by mohit'''"
   ]
  },
  {
   "cell_type": "code",
   "execution_count": 5,
   "metadata": {},
   "outputs": [
    {
     "name": "stdout",
     "output_type": "stream",
     "text": [
      "this program is written by mohit\n"
     ]
    }
   ],
   "source": [
    "print('''this program is written by mohit''')"
   ]
  },
  {
   "cell_type": "markdown",
   "metadata": {},
   "source": [
    "3 uses of \"\"\" - printing text art, making doc string, making SQL statements\n",
    "\n",
    "a = \"\"\" this program is written by mohit \"\"\"- this can run in SQL"
   ]
  },
  {
   "cell_type": "markdown",
   "metadata": {},
   "source": [
    "3.)string inside the quotes"
   ]
  },
  {
   "cell_type": "code",
   "execution_count": 6,
   "metadata": {},
   "outputs": [
    {
     "name": "stdout",
     "output_type": "stream",
     "text": [
      "hello world\n"
     ]
    }
   ],
   "source": [
    "print('hello world')"
   ]
  },
  {
   "cell_type": "code",
   "execution_count": 7,
   "metadata": {},
   "outputs": [
    {
     "ename": "SyntaxError",
     "evalue": "invalid syntax (<ipython-input-7-3f3d487a621e>, line 1)",
     "output_type": "error",
     "traceback": [
      "\u001b[1;36m  File \u001b[1;32m\"<ipython-input-7-3f3d487a621e>\"\u001b[1;36m, line \u001b[1;32m1\u001b[0m\n\u001b[1;33m    print('python's world')\u001b[0m\n\u001b[1;37m                  ^\u001b[0m\n\u001b[1;31mSyntaxError\u001b[0m\u001b[1;31m:\u001b[0m invalid syntax\n"
     ]
    }
   ],
   "source": [
    "print('python's world')"
   ]
  },
  {
   "cell_type": "code",
   "execution_count": 8,
   "metadata": {},
   "outputs": [
    {
     "name": "stdout",
     "output_type": "stream",
     "text": [
      "python's world\n"
     ]
    }
   ],
   "source": [
    "print(\"python's world\")"
   ]
  },
  {
   "cell_type": "markdown",
   "metadata": {},
   "source": [
    "4.) escape sequence of string\n",
    "backslash + t for spaces"
   ]
  },
  {
   "cell_type": "code",
   "execution_count": 9,
   "metadata": {},
   "outputs": [
    {
     "name": "stdout",
     "output_type": "stream",
     "text": [
      "hello\tpython\n"
     ]
    }
   ],
   "source": [
    "print(\"hello\\tpython\")"
   ]
  },
  {
   "cell_type": "markdown",
   "metadata": {},
   "source": [
    "backslash + n for line separator"
   ]
  },
  {
   "cell_type": "code",
   "execution_count": 10,
   "metadata": {},
   "outputs": [
    {
     "name": "stdout",
     "output_type": "stream",
     "text": [
      "hello\n",
      "python\n"
     ]
    }
   ],
   "source": [
    "print(\"hello\\npython\")"
   ]
  },
  {
   "cell_type": "markdown",
   "metadata": {},
   "source": [
    "use apostrohes with backslash"
   ]
  },
  {
   "cell_type": "code",
   "execution_count": 11,
   "metadata": {},
   "outputs": [
    {
     "name": "stdout",
     "output_type": "stream",
     "text": [
      "python's world\n"
     ]
    }
   ],
   "source": [
    "print(\"python\\'s world\")"
   ]
  },
  {
   "cell_type": "markdown",
   "metadata": {},
   "source": [
    "5.) Formatted Output"
   ]
  },
  {
   "cell_type": "code",
   "execution_count": 12,
   "metadata": {},
   "outputs": [
    {
     "name": "stdout",
     "output_type": "stream",
     "text": [
      "the name of person is  mohit marks is 90 ages is 20\n"
     ]
    }
   ],
   "source": [
    "name=\"mohit\"\n",
    "marks=\"90\"\n",
    "age=\"20\"\n",
    "print(\"the name of person is \", name, \"marks is\", marks, \"ages is\", age)"
   ]
  },
  {
   "cell_type": "code",
   "execution_count": 13,
   "metadata": {},
   "outputs": [
    {
     "name": "stdout",
     "output_type": "stream",
     "text": [
      "the name of person is  mohit marks is 90.867 ages is 20\n"
     ]
    }
   ],
   "source": [
    "name=\"mohit\"\n",
    "marks=90.867\n",
    "age=20\n",
    "print(\"the name of person is \", name, \"marks is\", marks, \"ages is\", age)"
   ]
  },
  {
   "cell_type": "markdown",
   "metadata": {},
   "source": [
    "using multiple statements"
   ]
  },
  {
   "cell_type": "code",
   "execution_count": 14,
   "metadata": {},
   "outputs": [
    {
     "name": "stdout",
     "output_type": "stream",
     "text": [
      "the name of person is mohit marks is 90.867000 age is 20\n"
     ]
    }
   ],
   "source": [
    "print(\"the name of person is %s marks is %f age is %d\"%(name,marks,age))"
   ]
  },
  {
   "cell_type": "markdown",
   "metadata": {},
   "source": [
    "%s is string\n",
    "%f is float\n",
    "%d is integer\n"
   ]
  },
  {
   "cell_type": "code",
   "execution_count": 15,
   "metadata": {},
   "outputs": [
    {
     "name": "stdout",
     "output_type": "stream",
     "text": [
      "the name of person is      mohit marks is  90.867000 age is 20\n"
     ]
    }
   ],
   "source": [
    "print(\"the name of person is %10s marks is %10f age is %d\"%(name,marks,age))"
   ]
  },
  {
   "cell_type": "markdown",
   "metadata": {},
   "source": [
    "2 decimal places"
   ]
  },
  {
   "cell_type": "code",
   "execution_count": 16,
   "metadata": {},
   "outputs": [
    {
     "name": "stdout",
     "output_type": "stream",
     "text": [
      "the name of person is      mohit marks is      90.87 age is 20\n"
     ]
    }
   ],
   "source": [
    "print(\"the name of person is %10s marks is %10.2f age is %d\"%(name,marks,age))"
   ]
  },
  {
   "cell_type": "code",
   "execution_count": 17,
   "metadata": {},
   "outputs": [
    {
     "name": "stdout",
     "output_type": "stream",
     "text": [
      "the name of person is      mohit marks is       90.9 age is 20\n"
     ]
    }
   ],
   "source": [
    "print(\"the name of person is %10s marks is %10.1f age is %d\"%(name,marks,age))"
   ]
  },
  {
   "cell_type": "code",
   "execution_count": 18,
   "metadata": {},
   "outputs": [
    {
     "ename": "SyntaxError",
     "evalue": "invalid syntax (<ipython-input-18-4daa37d9b0b1>, line 2)",
     "output_type": "error",
     "traceback": [
      "\u001b[1;36m  File \u001b[1;32m\"<ipython-input-18-4daa37d9b0b1>\"\u001b[1;36m, line \u001b[1;32m2\u001b[0m\n\u001b[1;33m    same output\u001b[0m\n\u001b[1;37m              ^\u001b[0m\n\u001b[1;31mSyntaxError\u001b[0m\u001b[1;31m:\u001b[0m invalid syntax\n"
     ]
    }
   ],
   "source": [
    "pring(f\"the name of person is {name} the marks is {marks} age is {age}\")\n",
    "same output"
   ]
  },
  {
   "cell_type": "markdown",
   "metadata": {},
   "source": [
    "greater than 3.4 version needed for above"
   ]
  },
  {
   "cell_type": "markdown",
   "metadata": {},
   "source": [
    "python variables\n",
    "varible means linking of the data to a name\n",
    "according to the data type, the interpreter reserves the memory space\n",
    "varible refers to the memory location that contains the data\n",
    "memory or ram, define a varible a=10\n",
    "every byte has a address\n",
    "symbolic address is variable\n",
    "integer, float = object\n",
    "= is assignment operator, sets linking from a to 10\n",
    "holds data and points\n",
    "a10 is variable 10a is not a variable\n",
    "rules to define a variable\n",
    "a kw cannout be used as a variable \"if\", \"def\" and \"for\" are the reserved kws. they cannot be used as variables\n",
    "a variable can contain letters (upper case or lower case), numbers, underscore\n",
    "python is case sensitive, hence variables are also case sensitive\n",
    "a variable cannot start with a number\n",
    "a variable is assigned to data by using the assignment operator"
   ]
  },
  {
   "cell_type": "markdown",
   "metadata": {},
   "source": [
    "use meaningful names"
   ]
  },
  {
   "cell_type": "code",
   "execution_count": 20,
   "metadata": {},
   "outputs": [
    {
     "name": "stdout",
     "output_type": "stream",
     "text": [
      "cisco_temp=40\n"
     ]
    }
   ],
   "source": [
    "print(\"cisco_temp=40\")"
   ]
  },
  {
   "cell_type": "markdown",
   "metadata": {},
   "source": [
    "python assignment statement\n",
    "<variable name>=<data>example\n",
    "x = y = z = 10"
   ]
  },
  {
   "cell_type": "code",
   "execution_count": 21,
   "metadata": {},
   "outputs": [
    {
     "data": {
      "text/plain": [
       "140705856136176"
      ]
     },
     "execution_count": 21,
     "metadata": {},
     "output_type": "execute_result"
    }
   ],
   "source": [
    "x = 20\n",
    "id(x)"
   ]
  },
  {
   "cell_type": "code",
   "execution_count": 22,
   "metadata": {},
   "outputs": [
    {
     "data": {
      "text/plain": [
       "140705856136176"
      ]
     },
     "execution_count": 22,
     "metadata": {},
     "output_type": "execute_result"
    }
   ],
   "source": [
    "y=20\n",
    "id(y)"
   ]
  },
  {
   "cell_type": "markdown",
   "metadata": {},
   "source": [
    "same number! why? because pointing to same memory object"
   ]
  },
  {
   "cell_type": "markdown",
   "metadata": {},
   "source": [
    "del x is delete\n",
    "deletion deletes path from x to 20\n",
    "not from y to 20\n",
    "hence y value still holds\n",
    "\n",
    "it is like cutting the bindings\n"
   ]
  },
  {
   "cell_type": "markdown",
   "metadata": {},
   "source": [
    "del y\n",
    "both are erased now\n",
    "20 is still floating"
   ]
  },
  {
   "cell_type": "markdown",
   "metadata": {},
   "source": [
    "types of python operators\n",
    "arithmetic operators\n",
    "comparison operators\n",
    "assignment operators\n",
    "bitwise operators\n",
    "logical operators\n",
    "membership operators\n",
    "identity operators\n",
    "\n",
    "arithmetic operators"
   ]
  },
  {
   "cell_type": "raw",
   "metadata": {},
   "source": [
    "** exponent - performs exponential (power) calculation on operators\n",
    "* multiplication\n",
    "/ division\n",
    "% modulus > remainder\n",
    "+ addition\n",
    "- subtraction\n",
    "// floor division: floor division means that after performing the division it returns the lower integer value as the result > get lowest integer value\n",
    "integer/integer = float value\n",
    "integer/integer = integer value (in python 2)"
   ]
  },
  {
   "cell_type": "code",
   "execution_count": 24,
   "metadata": {},
   "outputs": [
    {
     "data": {
      "text/plain": [
       "3.3333333333333335"
      ]
     },
     "execution_count": 24,
     "metadata": {},
     "output_type": "execute_result"
    }
   ],
   "source": [
    "10/3"
   ]
  },
  {
   "cell_type": "code",
   "execution_count": 25,
   "metadata": {},
   "outputs": [
    {
     "data": {
      "text/plain": [
       "3"
      ]
     },
     "execution_count": 25,
     "metadata": {},
     "output_type": "execute_result"
    }
   ],
   "source": [
    "10//3"
   ]
  },
  {
   "cell_type": "markdown",
   "metadata": {},
   "source": [
    "hence lower value"
   ]
  },
  {
   "cell_type": "code",
   "execution_count": 26,
   "metadata": {},
   "outputs": [
    {
     "data": {
      "text/plain": [
       "1000"
      ]
     },
     "execution_count": 26,
     "metadata": {},
     "output_type": "execute_result"
    }
   ],
   "source": [
    "10**3"
   ]
  },
  {
   "cell_type": "code",
   "execution_count": 27,
   "metadata": {},
   "outputs": [
    {
     "data": {
      "text/plain": [
       "30"
      ]
     },
     "execution_count": 27,
     "metadata": {},
     "output_type": "execute_result"
    }
   ],
   "source": [
    "10*3"
   ]
  },
  {
   "cell_type": "code",
   "execution_count": 28,
   "metadata": {},
   "outputs": [
    {
     "data": {
      "text/plain": [
       "0"
      ]
     },
     "execution_count": 28,
     "metadata": {},
     "output_type": "execute_result"
    }
   ],
   "source": [
    "10%5"
   ]
  },
  {
   "cell_type": "code",
   "execution_count": 29,
   "metadata": {},
   "outputs": [
    {
     "data": {
      "text/plain": [
       "15"
      ]
     },
     "execution_count": 29,
     "metadata": {},
     "output_type": "execute_result"
    }
   ],
   "source": [
    "10+5"
   ]
  },
  {
   "cell_type": "code",
   "execution_count": 30,
   "metadata": {},
   "outputs": [
    {
     "data": {
      "text/plain": [
       "5"
      ]
     },
     "execution_count": 30,
     "metadata": {},
     "output_type": "execute_result"
    }
   ],
   "source": [
    "10-5"
   ]
  },
  {
   "cell_type": "raw",
   "metadata": {},
   "source": [
    "comparison operators\n",
    "== the operator returns true if the right=side operand and left-side operamd are equal\n",
    "< the less than operator returns true if right-side operand is less than left-side operand\n",
    "> the greater than operator returns true if right side operand is greater than the left-side operand\n",
    "<= the less than or equal to operator returns true if the right-side operand is less than or equal to the left-side operand\n",
    ">= the greater than or equal to operator returns true if the right-side operand is greater than or equal to the left-side operand\n",
    "!= the not equal to operator returns true if right-side operand is not equal to the left-side operand\n",
    "\n",
    "true is 1, false is 0\n",
    "\n",
    "use python shell to check syntax errors"
   ]
  },
  {
   "cell_type": "code",
   "execution_count": 31,
   "metadata": {},
   "outputs": [
    {
     "data": {
      "text/plain": [
       "False"
      ]
     },
     "execution_count": 31,
     "metadata": {},
     "output_type": "execute_result"
    }
   ],
   "source": [
    "a = 10\n",
    "b= 10\n",
    "c = 20\n",
    "a == c"
   ]
  },
  {
   "cell_type": "code",
   "execution_count": 32,
   "metadata": {},
   "outputs": [
    {
     "data": {
      "text/plain": [
       "True"
      ]
     },
     "execution_count": 32,
     "metadata": {},
     "output_type": "execute_result"
    }
   ],
   "source": [
    "a<c"
   ]
  },
  {
   "cell_type": "code",
   "execution_count": 33,
   "metadata": {},
   "outputs": [
    {
     "data": {
      "text/plain": [
       "False"
      ]
     },
     "execution_count": 33,
     "metadata": {},
     "output_type": "execute_result"
    }
   ],
   "source": [
    "b>c"
   ]
  },
  {
   "cell_type": "code",
   "execution_count": 34,
   "metadata": {},
   "outputs": [
    {
     "data": {
      "text/plain": [
       "True"
      ]
     },
     "execution_count": 34,
     "metadata": {},
     "output_type": "execute_result"
    }
   ],
   "source": [
    "a<=b"
   ]
  },
  {
   "cell_type": "code",
   "execution_count": 35,
   "metadata": {},
   "outputs": [
    {
     "data": {
      "text/plain": [
       "False"
      ]
     },
     "execution_count": 35,
     "metadata": {},
     "output_type": "execute_result"
    }
   ],
   "source": [
    "a>=c"
   ]
  },
  {
   "cell_type": "code",
   "execution_count": 36,
   "metadata": {},
   "outputs": [
    {
     "data": {
      "text/plain": [
       "False"
      ]
     },
     "execution_count": 36,
     "metadata": {},
     "output_type": "execute_result"
    }
   ],
   "source": [
    "a!=b"
   ]
  },
  {
   "cell_type": "raw",
   "metadata": {},
   "source": [
    "assignment operators\n",
    "= a=b, b is assigned to a\n",
    "+= a+=b is equal to a=a+b, a=a+b also works as a syntax\n",
    "-+ a-=b is equal to a=a-b\n",
    "*= a*=b is equal to a=a*b\n",
    "/= a/=b is equal to a=a/b\n",
    "**= a**=b is equal to a=a**b\n",
    "\n",
    "command prompt - type python here\n",
    "\n",
    "notepad++ is best\n",
    "\n",
    "any editor is fine\n",
    "\n",
    "must recognize python syntax"
   ]
  },
  {
   "cell_type": "code",
   "execution_count": 41,
   "metadata": {},
   "outputs": [
    {
     "data": {
      "text/plain": [
       "20"
      ]
     },
     "execution_count": 41,
     "metadata": {},
     "output_type": "execute_result"
    }
   ],
   "source": [
    "a=10\n",
    "b=10\n",
    "c=20\n",
    "a+b"
   ]
  },
  {
   "cell_type": "raw",
   "metadata": {},
   "source": [
    "bitwise operators\n",
    "works on bits= 1,0\n",
    "refer truth tables in binary numbers\n",
    "| = bitwise OR operation\n",
    "& = bitwise AND operation\n",
    "~ = Binary one's Complement\n",
    "^ = bitwise XOR operation\n",
    "<< = binary left shift operator, the left-hand operand bit is shifted to the left by the number on the right\n",
    ">> = binary right shift operator, the right=hand operand bit is shifted to the right by the number on the right"
   ]
  },
  {
   "cell_type": "raw",
   "metadata": {},
   "source": [
    "logical operators\n",
    "And = if both the sides right and left are true then the AND operator returns true\n",
    "Or = if any side it true then the OR operator returns true\n",
    "Not = the not operator inverts the outcome of the condition. if a condition in the not operator returns true, then the not operator makes it false, vice versa.\n",
    "\n",
    "revise true false logic sums\n",
    "\n",
    "T or T = T\n",
    "T or F = T\n",
    "F or T = T\n",
    "F or F = F\n",
    "\n",
    "T and F = F\n",
    "F and T = F\n",
    "F and F = F\n",
    "T and T = T"
   ]
  },
  {
   "cell_type": "code",
   "execution_count": 44,
   "metadata": {},
   "outputs": [
    {
     "data": {
      "text/plain": [
       "True"
      ]
     },
     "execution_count": 44,
     "metadata": {},
     "output_type": "execute_result"
    }
   ],
   "source": [
    "10>9"
   ]
  },
  {
   "cell_type": "code",
   "execution_count": 45,
   "metadata": {},
   "outputs": [
    {
     "ename": "NameError",
     "evalue": "name 'm' is not defined",
     "output_type": "error",
     "traceback": [
      "\u001b[1;31m---------------------------------------------------------------------------\u001b[0m",
      "\u001b[1;31mNameError\u001b[0m                                 Traceback (most recent call last)",
      "\u001b[1;32m<ipython-input-45-456551562d8b>\u001b[0m in \u001b[0;36m<module>\u001b[1;34m\u001b[0m\n\u001b[1;32m----> 1\u001b[1;33m \u001b[1;36m20\u001b[0m\u001b[1;33m>\u001b[0m\u001b[0mm\u001b[0m\u001b[1;33m\u001b[0m\u001b[1;33m\u001b[0m\u001b[0m\n\u001b[0m",
      "\u001b[1;31mNameError\u001b[0m: name 'm' is not defined"
     ]
    }
   ],
   "source": [
    "20>m"
   ]
  },
  {
   "cell_type": "code",
   "execution_count": 49,
   "metadata": {},
   "outputs": [
    {
     "data": {
      "text/plain": [
       "False"
      ]
     },
     "execution_count": 49,
     "metadata": {},
     "output_type": "execute_result"
    }
   ],
   "source": [
    "10<9"
   ]
  },
  {
   "cell_type": "code",
   "execution_count": 47,
   "metadata": {},
   "outputs": [
    {
     "ename": "NameError",
     "evalue": "name 'm' is not defined",
     "output_type": "error",
     "traceback": [
      "\u001b[1;31m---------------------------------------------------------------------------\u001b[0m",
      "\u001b[1;31mNameError\u001b[0m                                 Traceback (most recent call last)",
      "\u001b[1;32m<ipython-input-47-456551562d8b>\u001b[0m in \u001b[0;36m<module>\u001b[1;34m\u001b[0m\n\u001b[1;32m----> 1\u001b[1;33m \u001b[1;36m20\u001b[0m\u001b[1;33m>\u001b[0m\u001b[0mm\u001b[0m\u001b[1;33m\u001b[0m\u001b[1;33m\u001b[0m\u001b[0m\n\u001b[0m",
      "\u001b[1;31mNameError\u001b[0m: name 'm' is not defined"
     ]
    }
   ],
   "source": [
    "20>m"
   ]
  },
  {
   "cell_type": "code",
   "execution_count": 50,
   "metadata": {},
   "outputs": [
    {
     "ename": "NameError",
     "evalue": "name 'm' is not defined",
     "output_type": "error",
     "traceback": [
      "\u001b[1;31m---------------------------------------------------------------------------\u001b[0m",
      "\u001b[1;31mNameError\u001b[0m                                 Traceback (most recent call last)",
      "\u001b[1;32m<ipython-input-50-9fa2eda33963>\u001b[0m in \u001b[0;36m<module>\u001b[1;34m\u001b[0m\n\u001b[1;32m----> 1\u001b[1;33m \u001b[1;36m10\u001b[0m\u001b[1;33m>\u001b[0m\u001b[1;36m9\u001b[0m \u001b[1;32mand\u001b[0m \u001b[1;36m20\u001b[0m\u001b[1;33m>\u001b[0m\u001b[0mm\u001b[0m\u001b[1;33m\u001b[0m\u001b[1;33m\u001b[0m\u001b[0m\n\u001b[0m",
      "\u001b[1;31mNameError\u001b[0m: name 'm' is not defined"
     ]
    }
   ],
   "source": [
    "10>9 and 20>m"
   ]
  },
  {
   "cell_type": "code",
   "execution_count": 51,
   "metadata": {},
   "outputs": [
    {
     "data": {
      "text/plain": [
       "False"
      ]
     },
     "execution_count": 51,
     "metadata": {},
     "output_type": "execute_result"
    }
   ],
   "source": [
    "10<9 and 20>m"
   ]
  },
  {
   "cell_type": "markdown",
   "metadata": {},
   "source": [
    "because the system went back and reverse calculated"
   ]
  },
  {
   "cell_type": "raw",
   "metadata": {},
   "source": [
    "membership operators\n",
    "in - if the specified operand is found in the sequence, then the \"in\" operator returns true, otherwise it returns false\n",
    "not in - if the specified operand is not found in the sequence, then the not in operator returns true, otherwise it returns false\n",
    "\n",
    "identity operators\n",
    "is - if 2 variables refer to the same memory location then the is operator returns true, otherwise it returns false\n",
    "is not - if 2 variables refer to the same memory location, then the \"is not\" operator returns false, otherwise it returns true\n",
    "\n",
    "-5 to 256 is same memory range"
   ]
  },
  {
   "cell_type": "markdown",
   "metadata": {},
   "source": [
    "operator precedence lowest to highest:\n",
    "assignment expression :=\n",
    "lambda expression lambda\n",
    "conditional expression if-else\n",
    "boolean OR or\n",
    "boolean AND and\n",
    "boolean NOT not x\n",
    "comparisons, including membership tests and identity tests in,not in,is,is not,<,<=,>,>=,!=,==\n",
    "bitwise OR |\n",
    "bitwise XOR ^\n",
    "bitwise AND &\n",
    "shifts <<,>>\n",
    "addition and subtraction +,-\n",
    "multiplication, matrix multiplication, division, floor division, remainder *,@,/,//,%\n",
    "positive,negative,bitwise NOT +x,-x,~x\n",
    "exponentiation *\n",
    "await expression await x\n",
    "subscription, slicing, call, attribute reference x[index],x[index:index],x(arguments...),x.attribute\n",
    "binding or parenthesized expression, list display, dictionary display, set display     (expressions...),[expressions...],{key:value...},{expressions...}"
   ]
  },
  {
   "cell_type": "code",
   "execution_count": 52,
   "metadata": {},
   "outputs": [
    {
     "data": {
      "text/plain": [
       "11.379310344827587"
      ]
     },
     "execution_count": 52,
     "metadata": {},
     "output_type": "execute_result"
    }
   ],
   "source": [
    "10+10/29*4"
   ]
  },
  {
   "cell_type": "markdown",
   "metadata": {},
   "source": [
    "python 2 gives different answer\n",
    "python 3 gives decimal answer\n"
   ]
  },
  {
   "cell_type": "code",
   "execution_count": 53,
   "metadata": {},
   "outputs": [
    {
     "data": {
      "text/plain": [
       "False"
      ]
     },
     "execution_count": 53,
     "metadata": {},
     "output_type": "execute_result"
    }
   ],
   "source": [
    "10>8>9"
   ]
  },
  {
   "cell_type": "code",
   "execution_count": 54,
   "metadata": {},
   "outputs": [
    {
     "data": {
      "text/plain": [
       "True"
      ]
     },
     "execution_count": 54,
     "metadata": {},
     "output_type": "execute_result"
    }
   ],
   "source": [
    "10>8 and 10>9"
   ]
  },
  {
   "cell_type": "code",
   "execution_count": 56,
   "metadata": {},
   "outputs": [
    {
     "data": {
      "text/plain": [
       "241"
      ]
     },
     "execution_count": 56,
     "metadata": {},
     "output_type": "execute_result"
    }
   ],
   "source": [
    "a =240\n",
    "b = 1\n",
    "a|b"
   ]
  },
  {
   "cell_type": "code",
   "execution_count": 57,
   "metadata": {},
   "outputs": [
    {
     "data": {
      "text/plain": [
       "'0b11110000'"
      ]
     },
     "execution_count": 57,
     "metadata": {},
     "output_type": "execute_result"
    }
   ],
   "source": [
    "bin(240)"
   ]
  },
  {
   "cell_type": "code",
   "execution_count": 58,
   "metadata": {},
   "outputs": [
    {
     "data": {
      "text/plain": [
       "0"
      ]
     },
     "execution_count": 58,
     "metadata": {},
     "output_type": "execute_result"
    }
   ],
   "source": [
    "a & b"
   ]
  },
  {
   "cell_type": "code",
   "execution_count": 59,
   "metadata": {},
   "outputs": [
    {
     "data": {
      "text/plain": [
       "True"
      ]
     },
     "execution_count": 59,
     "metadata": {},
     "output_type": "execute_result"
    }
   ],
   "source": [
    "str = \"Python is a programing language\"\n",
    "\"a\" in str #checks if a is present in the string"
   ]
  },
  {
   "cell_type": "code",
   "execution_count": 60,
   "metadata": {},
   "outputs": [
    {
     "data": {
      "text/plain": [
       "False"
      ]
     },
     "execution_count": 60,
     "metadata": {},
     "output_type": "execute_result"
    }
   ],
   "source": [
    "\"z\" in str #checks if a is present in the string"
   ]
  },
  {
   "cell_type": "code",
   "execution_count": 61,
   "metadata": {},
   "outputs": [
    {
     "data": {
      "text/plain": [
       "True"
      ]
     },
     "execution_count": 61,
     "metadata": {},
     "output_type": "execute_result"
    }
   ],
   "source": [
    "\"z\" not in str"
   ]
  },
  {
   "cell_type": "code",
   "execution_count": 62,
   "metadata": {},
   "outputs": [
    {
     "data": {
      "text/plain": [
       "True"
      ]
     },
     "execution_count": 62,
     "metadata": {},
     "output_type": "execute_result"
    }
   ],
   "source": [
    "k=10\n",
    "f=10\n",
    "\n",
    "k==f #value is same"
   ]
  },
  {
   "cell_type": "code",
   "execution_count": 63,
   "metadata": {},
   "outputs": [
    {
     "data": {
      "text/plain": [
       "True"
      ]
     },
     "execution_count": 63,
     "metadata": {},
     "output_type": "execute_result"
    }
   ],
   "source": [
    "k is f #and they are also pointing to same memory location"
   ]
  },
  {
   "cell_type": "code",
   "execution_count": 64,
   "metadata": {},
   "outputs": [
    {
     "data": {
      "text/plain": [
       "140705856135856"
      ]
     },
     "execution_count": 64,
     "metadata": {},
     "output_type": "execute_result"
    }
   ],
   "source": [
    "id(k)"
   ]
  },
  {
   "cell_type": "code",
   "execution_count": 65,
   "metadata": {},
   "outputs": [
    {
     "data": {
      "text/plain": [
       "140705856135856"
      ]
     },
     "execution_count": 65,
     "metadata": {},
     "output_type": "execute_result"
    }
   ],
   "source": [
    "id(f) #prven both points to same memory location"
   ]
  },
  {
   "cell_type": "code",
   "execution_count": 66,
   "metadata": {},
   "outputs": [
    {
     "data": {
      "text/plain": [
       "True"
      ]
     },
     "execution_count": 66,
     "metadata": {},
     "output_type": "execute_result"
    }
   ],
   "source": [
    "x=1.5\n",
    "y=1.5\n",
    "\n",
    "x==y"
   ]
  },
  {
   "cell_type": "code",
   "execution_count": 67,
   "metadata": {},
   "outputs": [
    {
     "data": {
      "text/plain": [
       "True"
      ]
     },
     "execution_count": 67,
     "metadata": {},
     "output_type": "execute_result"
    }
   ],
   "source": [
    "a = 257\n",
    "b = 257\n",
    "a==b"
   ]
  },
  {
   "cell_type": "code",
   "execution_count": 68,
   "metadata": {},
   "outputs": [
    {
     "data": {
      "text/plain": [
       "False"
      ]
     },
     "execution_count": 68,
     "metadata": {},
     "output_type": "execute_result"
    }
   ],
   "source": [
    "a is b"
   ]
  },
  {
   "cell_type": "code",
   "execution_count": null,
   "metadata": {},
   "outputs": [],
   "source": []
  }
 ],
 "metadata": {
  "kernelspec": {
   "display_name": "Python 3",
   "language": "python",
   "name": "python3"
  },
  "language_info": {
   "codemirror_mode": {
    "name": "ipython",
    "version": 3
   },
   "file_extension": ".py",
   "mimetype": "text/x-python",
   "name": "python",
   "nbconvert_exporter": "python",
   "pygments_lexer": "ipython3",
   "version": "3.7.6"
  }
 },
 "nbformat": 4,
 "nbformat_minor": 4
}
